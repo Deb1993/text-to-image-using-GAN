{
 "cells": [
  {
   "cell_type": "code",
   "execution_count": 1,
   "metadata": {},
   "outputs": [],
   "source": [
    "import nbimporter\n",
    "import sys"
   ]
  },
  {
   "cell_type": "code",
   "execution_count": 2,
   "metadata": {},
   "outputs": [],
   "source": [
    "sys.tracebacklimit = 0"
   ]
  },
  {
   "cell_type": "code",
   "execution_count": 3,
   "metadata": {},
   "outputs": [
    {
     "name": "stdout",
     "output_type": "stream",
     "text": [
      "Importing Jupyter notebook from trainer.ipynb\n",
      "Importing Jupyter notebook from txt2image_dataset.ipynb\n"
     ]
    },
    {
     "name": "stderr",
     "output_type": "stream",
     "text": [
      "/opt/conda/lib/python3.6/site-packages/h5py/__init__.py:36: FutureWarning: Conversion of the second argument of issubdtype from `float` to `np.floating` is deprecated. In future, it will be treated as `np.float64 == np.dtype(float).type`.\n",
      "  from ._conv import register_converters as _register_converters\n"
     ]
    },
    {
     "name": "stdout",
     "output_type": "stream",
     "text": [
      "Importing Jupyter notebook from /datasets/home/30/930/dmajumde/text-to-image-using-GAN/models/gan_factory.ipynb\n",
      "Importing Jupyter notebook from /datasets/home/30/930/dmajumde/text-to-image-using-GAN/models/gan.ipynb\n",
      "Importing Jupyter notebook from /datasets/home/30/930/dmajumde/text-to-image-using-GAN/models/gan_cls.ipynb\n",
      "Importing Jupyter notebook from utils.ipynb\n",
      "Importing Jupyter notebook from visualize.ipynb\n"
     ]
    }
   ],
   "source": [
    "from trainer import Trainer     #trainer.ipynb file"
   ]
  },
  {
   "cell_type": "code",
   "execution_count": 4,
   "metadata": {
    "scrolled": false
   },
   "outputs": [
    {
     "name": "stdout",
     "output_type": "stream",
     "text": [
      "Epoch: 0, d_loss= 1.824381, g_loss= 39.623806, D(X)= 0.785583, D(G(X))= 0.603187\n",
      "Epoch: 0, d_loss= 1.747982, g_loss= 35.570839, D(X)= 0.394987, D(G(X))= 0.110954\n",
      "Epoch: 0, d_loss= 2.788111, g_loss= 36.506531, D(X)= 0.648336, D(G(X))= 0.788674\n",
      "Epoch: 0, d_loss= 1.813570, g_loss= 32.228111, D(X)= 0.263396, D(G(X))= 0.038146\n",
      "Epoch: 0, d_loss= 1.610949, g_loss= 30.575586, D(X)= 0.456411, D(G(X))= 0.232535\n",
      "Epoch: 0, d_loss= 1.674184, g_loss= 28.385021, D(X)= 0.262118, D(G(X))= 0.036410\n",
      "Epoch: 0, d_loss= 0.896690, g_loss= 29.251663, D(X)= 0.549741, D(G(X))= 0.081843\n",
      "Epoch: 0, d_loss= 1.165906, g_loss= 27.879658, D(X)= 0.702772, D(G(X))= 0.366370\n",
      "Epoch: 0, d_loss= 1.064844, g_loss= 29.271965, D(X)= 0.668342, D(G(X))= 0.309243\n",
      "Epoch: 0, d_loss= 3.411027, g_loss= 27.707127, D(X)= 0.072986, D(G(X))= 0.059516\n",
      "Epoch: 0, d_loss= 1.662285, g_loss= 28.219864, D(X)= 0.701691, D(G(X))= 0.600647\n",
      "Epoch: 0, d_loss= 1.181147, g_loss= 26.957497, D(X)= 0.717404, D(G(X))= 0.427655\n",
      "Epoch: 0, d_loss= 0.884822, g_loss= 25.189011, D(X)= 0.649963, D(G(X))= 0.221604\n",
      "Epoch: 0, d_loss= 0.803524, g_loss= 28.053730, D(X)= 0.640287, D(G(X))= 0.175945\n",
      "Epoch: 0, d_loss= 1.102504, g_loss= 27.403612, D(X)= 0.835990, D(G(X))= 0.453396\n",
      "Epoch: 0, d_loss= 1.311921, g_loss= 27.442205, D(X)= 0.714837, D(G(X))= 0.498704\n",
      "Epoch: 0, d_loss= 1.316734, g_loss= 26.771605, D(X)= 0.492987, D(G(X))= 0.313896\n",
      "Epoch: 0, d_loss= 0.937797, g_loss= 28.168291, D(X)= 0.689023, D(G(X))= 0.327050\n",
      "Epoch: 0, d_loss= 2.704737, g_loss= 26.408981, D(X)= 0.123982, D(G(X))= 0.035687\n",
      "Epoch: 0, d_loss= 1.147251, g_loss= 26.139589, D(X)= 0.683396, D(G(X))= 0.380518\n",
      "Epoch: 0, d_loss= 1.554559, g_loss= 28.315002, D(X)= 0.835923, D(G(X))= 0.623302\n",
      "Epoch: 0, d_loss= 1.053980, g_loss= 23.813747, D(X)= 0.543117, D(G(X))= 0.233226\n",
      "Epoch: 0, d_loss= 0.945413, g_loss= 26.121262, D(X)= 0.584309, D(G(X))= 0.160830\n",
      "Epoch: 0, d_loss= 1.022652, g_loss= 25.552168, D(X)= 0.787615, D(G(X))= 0.402441\n",
      "Epoch: 0, d_loss= 1.065125, g_loss= 25.861610, D(X)= 0.787191, D(G(X))= 0.434399\n",
      "Epoch: 0, d_loss= 1.033397, g_loss= 25.100094, D(X)= 0.598912, D(G(X))= 0.311785\n",
      "Epoch: 0, d_loss= 0.845426, g_loss= 27.320507, D(X)= 0.772558, D(G(X))= 0.317300\n",
      "Epoch: 0, d_loss= 1.093750, g_loss= 25.250139, D(X)= 0.617197, D(G(X))= 0.371807\n",
      "Epoch: 0, d_loss= 1.229812, g_loss= 25.179262, D(X)= 0.389412, D(G(X))= 0.084896\n",
      "Epoch: 0, d_loss= 1.442750, g_loss= 26.243412, D(X)= 0.381051, D(G(X))= 0.204968\n",
      "Epoch: 0, d_loss= 0.856726, g_loss= 26.565353, D(X)= 0.582402, D(G(X))= 0.174143\n",
      "Epoch: 0, d_loss= 1.194836, g_loss= 25.992226, D(X)= 0.385819, D(G(X))= 0.103329\n",
      "Epoch: 0, d_loss= 1.351508, g_loss= 24.904297, D(X)= 0.362004, D(G(X))= 0.152586\n",
      "Epoch: 0, d_loss= 1.100082, g_loss= 25.006527, D(X)= 0.503757, D(G(X))= 0.251843\n",
      "Epoch: 0, d_loss= 1.116895, g_loss= 24.654503, D(X)= 0.446915, D(G(X))= 0.187560\n",
      "Epoch: 0, d_loss= 1.316839, g_loss= 25.380255, D(X)= 0.382261, D(G(X))= 0.146541\n",
      "Epoch: 0, d_loss= 0.932271, g_loss= 26.412704, D(X)= 0.524911, D(G(X))= 0.138310\n",
      "Epoch: 0, d_loss= 1.177840, g_loss= 27.152386, D(X)= 0.514211, D(G(X))= 0.273932\n",
      "Epoch: 0, d_loss= 1.542100, g_loss= 25.324162, D(X)= 0.427172, D(G(X))= 0.381024\n",
      "Epoch: 0, d_loss= 0.878975, g_loss= 27.677782, D(X)= 0.583615, D(G(X))= 0.154887\n",
      "Epoch: 0, d_loss= 1.183289, g_loss= 26.569986, D(X)= 0.444070, D(G(X))= 0.205561\n",
      "Epoch: 0, d_loss= 1.487988, g_loss= 25.859070, D(X)= 0.292455, D(G(X))= 0.097519\n",
      "Epoch: 0, d_loss= 1.242183, g_loss= 28.167049, D(X)= 0.795903, D(G(X))= 0.510970\n",
      "Epoch: 0, d_loss= 1.357034, g_loss= 26.909191, D(X)= 0.792507, D(G(X))= 0.568181\n",
      "Epoch: 0, d_loss= 0.949773, g_loss= 26.020712, D(X)= 0.700468, D(G(X))= 0.338978\n",
      "Epoch: 0, d_loss= 1.246701, g_loss= 27.421513, D(X)= 0.670879, D(G(X))= 0.483851\n",
      "Epoch: 0, d_loss= 1.728099, g_loss= 24.043419, D(X)= 0.251667, D(G(X))= 0.112509\n",
      "Epoch: 0, d_loss= 1.055052, g_loss= 26.261246, D(X)= 0.487304, D(G(X))= 0.180422\n",
      "Epoch: 0, d_loss= 1.062026, g_loss= 27.568405, D(X)= 0.664896, D(G(X))= 0.375124\n",
      "Epoch: 0, d_loss= 1.393726, g_loss= 25.049974, D(X)= 0.361144, D(G(X))= 0.226041\n",
      "Epoch: 0, d_loss= 1.405968, g_loss= 25.664536, D(X)= 0.455065, D(G(X))= 0.361299\n",
      "Epoch: 0, d_loss= 1.082052, g_loss= 26.236139, D(X)= 0.493710, D(G(X))= 0.206649\n",
      "Epoch: 0, d_loss= 1.016612, g_loss= 25.552320, D(X)= 0.664738, D(G(X))= 0.351751\n",
      "Epoch: 0, d_loss= 1.460741, g_loss= 25.875982, D(X)= 0.300303, D(G(X))= 0.097792\n",
      "Epoch: 0, d_loss= 1.091786, g_loss= 26.990070, D(X)= 0.582391, D(G(X))= 0.314103\n",
      "Epoch: 0, d_loss= 1.401083, g_loss= 25.481670, D(X)= 0.332420, D(G(X))= 0.131646\n",
      "Epoch: 0, d_loss= 1.086526, g_loss= 26.938236, D(X)= 0.770891, D(G(X))= 0.455667\n",
      "Epoch: 0, d_loss= 1.248037, g_loss= 25.335196, D(X)= 0.389527, D(G(X))= 0.164796\n",
      "Epoch: 0, d_loss= 1.432360, g_loss= 27.934042, D(X)= 0.761077, D(G(X))= 0.580932\n",
      "Epoch: 0, d_loss= 1.330408, g_loss= 25.374071, D(X)= 0.466529, D(G(X))= 0.359768\n",
      "Epoch: 0, d_loss= 0.979650, g_loss= 26.210409, D(X)= 0.478488, D(G(X))= 0.149198\n",
      "Epoch: 0, d_loss= 1.755430, g_loss= 28.250135, D(X)= 0.888861, D(G(X))= 0.665686\n",
      "Epoch: 0, d_loss= 0.916402, g_loss= 25.207603, D(X)= 0.577281, D(G(X))= 0.220203\n",
      "Epoch: 0, d_loss= 1.098461, g_loss= 26.611855, D(X)= 0.551405, D(G(X))= 0.282423\n",
      "Epoch: 0, d_loss= 1.404900, g_loss= 26.180641, D(X)= 0.302048, D(G(X))= 0.045911\n",
      "Epoch: 0, d_loss= 0.987323, g_loss= 26.864864, D(X)= 0.684766, D(G(X))= 0.363183\n",
      "Epoch: 0, d_loss= 1.164816, g_loss= 26.919033, D(X)= 0.879129, D(G(X))= 0.509608\n",
      "Epoch: 0, d_loss= 1.095525, g_loss= 25.157421, D(X)= 0.546304, D(G(X))= 0.305746\n",
      "Epoch: 0, d_loss= 0.894532, g_loss= 27.068527, D(X)= 0.775704, D(G(X))= 0.345425\n",
      "Epoch: 0, d_loss= 1.077462, g_loss= 26.654385, D(X)= 0.624281, D(G(X))= 0.360270\n",
      "Epoch: 0, d_loss= 1.062472, g_loss= 28.731880, D(X)= 0.805966, D(G(X))= 0.465445\n",
      "Epoch: 0, d_loss= 1.311500, g_loss= 24.670256, D(X)= 0.413900, D(G(X))= 0.272567\n",
      "Epoch: 0, d_loss= 0.987074, g_loss= 25.848774, D(X)= 0.543269, D(G(X))= 0.212795\n",
      "Epoch: 0, d_loss= 0.979329, g_loss= 27.175457, D(X)= 0.654109, D(G(X))= 0.326662\n",
      "Epoch: 0, d_loss= 1.044385, g_loss= 27.261877, D(X)= 0.560625, D(G(X))= 0.296242\n",
      "Epoch: 0, d_loss= 0.960337, g_loss= 25.967812, D(X)= 0.710278, D(G(X))= 0.355439\n",
      "Epoch: 0, d_loss= 0.923533, g_loss= 26.572941, D(X)= 0.865799, D(G(X))= 0.384502\n",
      "Epoch: 0, d_loss= 1.028857, g_loss= 25.725018, D(X)= 0.723547, D(G(X))= 0.398773\n",
      "Epoch: 0, d_loss= 1.175534, g_loss= 25.603567, D(X)= 0.387461, D(G(X))= 0.132775\n",
      "Epoch: 0, d_loss= 1.033649, g_loss= 26.307875, D(X)= 0.634134, D(G(X))= 0.353946\n",
      "Epoch: 0, d_loss= 0.934129, g_loss= 26.352285, D(X)= 0.563651, D(G(X))= 0.230506\n",
      "Epoch: 0, d_loss= 1.077771, g_loss= 27.992722, D(X)= 0.739998, D(G(X))= 0.428185\n",
      "Epoch: 0, d_loss= 1.124366, g_loss= 26.099720, D(X)= 0.536740, D(G(X))= 0.310913\n",
      "Epoch: 0, d_loss= 1.024973, g_loss= 24.640688, D(X)= 0.484910, D(G(X))= 0.168609\n",
      "Epoch: 0, d_loss= 1.110964, g_loss= 25.635944, D(X)= 0.649156, D(G(X))= 0.392596\n",
      "Epoch: 0, d_loss= 1.172132, g_loss= 26.155674, D(X)= 0.491788, D(G(X))= 0.287425\n",
      "Epoch: 0, d_loss= 1.416659, g_loss= 25.367050, D(X)= 0.329113, D(G(X))= 0.230431\n",
      "Epoch: 0, d_loss= 1.324539, g_loss= 24.974369, D(X)= 0.334177, D(G(X))= 0.133014\n",
      "Epoch: 0, d_loss= 0.843155, g_loss= 27.794815, D(X)= 0.767773, D(G(X))= 0.327053\n",
      "Epoch: 0, d_loss= 1.409923, g_loss= 26.986359, D(X)= 0.695763, D(G(X))= 0.540392\n",
      "Epoch: 0, d_loss= 0.885137, g_loss= 25.886976, D(X)= 0.789582, D(G(X))= 0.359929\n",
      "Epoch: 0, d_loss= 0.909554, g_loss= 28.666012, D(X)= 0.922088, D(G(X))= 0.414558\n"
     ]
    },
    {
     "name": "stderr",
     "output_type": "stream",
     "text": [
      "ERROR:root:Internal Python error in the inspect module.\n",
      "Below is the traceback from this internal error.\n",
      "\n"
     ]
    },
    {
     "name": "stdout",
     "output_type": "stream",
     "text": [
      "Traceback (most recent call last):\n",
      "TypeError: 'staticmethod' object is not callable\n",
      "\n",
      "During handling of the above exception, another exception occurred:\n",
      "\n",
      "Traceback (most recent call last):\n",
      "AttributeError: 'TypeError' object has no attribute '_render_traceback_'\n",
      "\n",
      "During handling of the above exception, another exception occurred:\n",
      "\n",
      "Traceback (most recent call last):\n",
      "AssertionError\n"
     ]
    },
    {
     "ename": "TypeError",
     "evalue": "'staticmethod' object is not callable",
     "output_type": "error",
     "traceback": [
      "\u001b[0;31m\u001b[0m"
     ]
    }
   ],
   "source": [
    "import argparse\n",
    "from PIL import Image   #This may not be used\n",
    "import os    ##This may not be used\n",
    "import easydict\n",
    "\n",
    "args = easydict.EasyDict({'type': 'gan', \n",
    "                         'lr': 0.0002,\n",
    "                         'l1_coef': 50,\n",
    "                         'l2_coef': 100,\n",
    "                         'diter': 5,\n",
    "                         'cls': False,\n",
    "                         'vis_screen': 'gan',\n",
    "                         'save_path':'',\n",
    "\n",
    "'inference': False,\n",
    "'pre_trained_disc': '',\n",
    "'pre_trained_gen': '',\n",
    "'dataset': 'flowers', \n",
    "'split': 0,\n",
    "'batch_size':64,\n",
    "'num_workers':8,\n",
    "'epochs':200})\n",
    "\n",
    "trainer = Trainer(type=args.type,\n",
    "                  dataset=args.dataset,\n",
    "                  split=args.split,\n",
    "                  lr=args.lr,\n",
    "                  diter=args.diter,   #This may not be used \n",
    "                  vis_screen=args.vis_screen,\n",
    "                  save_path=args.save_path,\n",
    "                  l1_coef=args.l1_coef,\n",
    "                  l2_coef=args.l2_coef,\n",
    "                  pre_trained_disc=args.pre_trained_disc,\n",
    "                  pre_trained_gen=args.pre_trained_gen,\n",
    "                  batch_size=args.batch_size,\n",
    "                  num_workers=args.num_workers,\n",
    "                  epochs=args.epochs\n",
    "                  )\n",
    "\n",
    "if not args.inference:\n",
    "    trainer.train(args.cls)\n",
    "else:\n",
    "    trainer.predict()"
   ]
  },
  {
   "cell_type": "code",
   "execution_count": null,
   "metadata": {},
   "outputs": [],
   "source": []
  }
 ],
 "metadata": {
  "kernelspec": {
   "display_name": "Python 3",
   "language": "python",
   "name": "python3"
  },
  "language_info": {
   "codemirror_mode": {
    "name": "ipython",
    "version": 3
   },
   "file_extension": ".py",
   "mimetype": "text/x-python",
   "name": "python",
   "nbconvert_exporter": "python",
   "pygments_lexer": "ipython3",
   "version": "3.6.4"
  }
 },
 "nbformat": 4,
 "nbformat_minor": 2
}
