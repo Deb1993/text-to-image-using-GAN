{
 "cells": [
  {
   "cell_type": "code",
   "execution_count": 4,
   "metadata": {},
   "outputs": [],
   "source": [
    "import sys\n",
    "sys.path.insert(0, \"/datasets/home/23/223/rmanandi/text-to-image-using-GAN/\")\n",
    "import nbimporter"
   ]
  },
  {
   "cell_type": "code",
   "execution_count": 5,
   "metadata": {},
   "outputs": [
    {
     "name": "stdout",
     "output_type": "stream",
     "text": [
      "Importing Jupyter notebook from trainer.ipynb\n",
      "Importing Jupyter notebook from txt2image_dataset.ipynb\n",
      "Importing Jupyter notebook from /datasets/home/23/223/rmanandi/text-to-image-using-GAN/models/gan_factory.ipynb\n"
     ]
    },
    {
     "name": "stderr",
     "output_type": "stream",
     "text": [
      "/opt/conda/lib/python2.7/site-packages/h5py/__init__.py:36: FutureWarning: Conversion of the second argument of issubdtype from `float` to `np.floating` is deprecated. In future, it will be treated as `np.float64 == np.dtype(float).type`.\n",
      "  from ._conv import register_converters as _register_converters\n"
     ]
    },
    {
     "name": "stdout",
     "output_type": "stream",
     "text": [
      "Importing Jupyter notebook from /datasets/home/23/223/rmanandi/text-to-image-using-GAN/models/gan.ipynb\n",
      "Importing Jupyter notebook from utils.ipynb\n",
      "Importing Jupyter notebook from visualize.ipynb\n"
     ]
    }
   ],
   "source": [
    "# from trainer import Trainer     #trainer.ipynb file\n",
    "import trainer\n",
    "import argparse\n",
    "from PIL import Image   #This may not be used\n",
    "import os    ##This may not be used"
   ]
  },
  {
   "cell_type": "code",
   "execution_count": 6,
   "metadata": {},
   "outputs": [
    {
     "name": "stderr",
     "output_type": "stream",
     "text": [
      "usage: ipykernel_launcher.py [-h] [--type TYPE] [--lr LR] [--l1_coef L1_COEF]\n",
      "                             [--l2_coef L2_COEF] [--diter DITER] [--cls]\n",
      "                             [--vis_screen VIS_SCREEN] [--save_path SAVE_PATH]\n",
      "                             [--inference]\n",
      "                             [--pre_trained_disc PRE_TRAINED_DISC]\n",
      "                             [--pre_trained_gen PRE_TRAINED_GEN]\n",
      "                             [--dataset DATASET] [--split SPLIT]\n",
      "                             [--batch_size BATCH_SIZE]\n",
      "                             [--num_workers NUM_WORKERS] [--epochs EPOCHS]\n",
      "ipykernel_launcher.py: error: unrecognized arguments: -f /datasets/home/23/223/rmanandi/.local/share/jupyter/runtime/kernel-c3327d2a-03b1-4d46-9b5c-0ecac2438cd4.json\n"
     ]
    },
    {
     "ename": "SystemExit",
     "evalue": "2",
     "output_type": "error",
     "traceback": [
      "An exception has occurred, use %tb to see the full traceback.\n",
      "\u001b[0;31mSystemExit\u001b[0m\u001b[0;31m:\u001b[0m 2\n"
     ]
    },
    {
     "name": "stderr",
     "output_type": "stream",
     "text": [
      "/opt/conda/lib/python2.7/site-packages/IPython/core/interactiveshell.py:2886: UserWarning: To exit: use 'exit', 'quit', or Ctrl-D.\n",
      "  warn(\"To exit: use 'exit', 'quit', or Ctrl-D.\", stacklevel=1)\n"
     ]
    }
   ],
   "source": [
    "parser = argparse.ArgumentParser()\n",
    "parser.add_argument(\"--type\", default='gan')\n",
    "parser.add_argument(\"--lr\", default=0.0002, type=float)\n",
    "parser.add_argument(\"--l1_coef\", default=50, type=float)\n",
    "parser.add_argument(\"--l2_coef\", default=100, type=float)\n",
    "parser.add_argument(\"--diter\", default=5, type=int) #This may not be used\n",
    "parser.add_argument(\"--cls\", default=False, action='store_true')\n",
    "parser.add_argument(\"--vis_screen\", default='gan')\n",
    "parser.add_argument(\"--save_path\", default='')\n",
    "parser.add_argument(\"--inference\", default=False, action='store_true')\n",
    "parser.add_argument('--pre_trained_disc', default=None)\n",
    "parser.add_argument('--pre_trained_gen', default=None)\n",
    "parser.add_argument('--dataset', default='flowers')\n",
    "parser.add_argument('--split', default=0, type=int)\n",
    "parser.add_argument('--batch_size', default=64, type=int)\n",
    "parser.add_argument('--num_workers', default=8, type=int)\n",
    "parser.add_argument('--epochs', default=200, type=int)\n",
    "args = parser.parse_args()\n",
    "\n",
    "trainer = trainer.Trainer(type=args.type,\n",
    "                  dataset=args.dataset,\n",
    "                  split=args.split,\n",
    "                  lr=args.lr,\n",
    "                  diter=args.diter,   #This may not be used \n",
    "                  vis_screen=args.vis_screen,\n",
    "                  save_path=args.save_path,\n",
    "                  l1_coef=args.l1_coef,\n",
    "                  l2_coef=args.l2_coef,\n",
    "                  pre_trained_disc=args.pre_trained_disc,\n",
    "                  pre_trained_gen=args.pre_trained_gen,\n",
    "                  batch_size=args.batch_size,\n",
    "                  num_workers=args.num_workers,\n",
    "                  epochs=args.epochs\n",
    "                  )\n",
    "\n",
    "if not args.inference:\n",
    "    trainer.train(args.cls)\n",
    "else:\n",
    "    trainer.predict()"
   ]
  },
  {
   "cell_type": "code",
   "execution_count": null,
   "metadata": {},
   "outputs": [],
   "source": []
  }
 ],
 "metadata": {
  "kernelspec": {
   "display_name": "Python 2",
   "language": "python",
   "name": "python2"
  },
  "language_info": {
   "codemirror_mode": {
    "name": "ipython",
    "version": 2
   },
   "file_extension": ".py",
   "mimetype": "text/x-python",
   "name": "python",
   "nbconvert_exporter": "python",
   "pygments_lexer": "ipython2",
   "version": "2.7.14"
  }
 },
 "nbformat": 4,
 "nbformat_minor": 2
}
