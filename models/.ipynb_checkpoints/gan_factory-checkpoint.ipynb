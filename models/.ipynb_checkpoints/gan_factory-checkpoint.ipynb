{
 "cells": [
  {
   "cell_type": "code",
   "execution_count": 6,
   "metadata": {},
   "outputs": [],
   "source": [
    "import sys\n",
    "#sys.path.insert(0, \"../text-to-image-using-GAN/\")"
   ]
  },
  {
   "cell_type": "code",
   "execution_count": 7,
   "metadata": {},
   "outputs": [],
   "source": [
    "import nbimporter"
   ]
  },
  {
   "cell_type": "code",
   "execution_count": 8,
   "metadata": {},
   "outputs": [],
   "source": [
    "from models import gan,gan_cls"
   ]
  },
  {
   "cell_type": "code",
   "execution_count": 4,
   "metadata": {},
   "outputs": [],
   "source": [
    "class gan_factory(object):\n",
    "\n",
    "    @staticmethod\n",
    "    def generator_factory(type):\n",
    "        if type == 'gan':\n",
    "            return gan_cls.generator()\n",
    "        elif type == 'vanilla_gan':\n",
    "            return gan.generator()\n",
    "\n",
    "    @staticmethod\n",
    "    def discriminator_factory(type):\n",
    "        if type == 'gan':\n",
    "            return gan_cls.discriminator()\n",
    "        elif type == 'vanilla_gan':\n",
    "            return gan.discriminator()"
   ]
  },
  {
   "cell_type": "code",
   "execution_count": null,
   "metadata": {},
   "outputs": [],
   "source": []
  }
 ],
 "metadata": {
  "kernelspec": {
   "display_name": "Python 2",
   "language": "python",
   "name": "python2"
  },
  "language_info": {
   "codemirror_mode": {
    "name": "ipython",
    "version": 2
   },
   "file_extension": ".py",
   "mimetype": "text/x-python",
   "name": "python",
   "nbconvert_exporter": "python",
   "pygments_lexer": "ipython2",
   "version": "2.7.14"
  }
 },
 "nbformat": 4,
 "nbformat_minor": 2
}
