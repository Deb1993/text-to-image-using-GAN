{
 "cells": [
  {
   "cell_type": "code",
<<<<<<< HEAD
   "execution_count": 1,
   "metadata": {},
   "outputs": [],
   "source": [
    "import nbimporter"
   ]
  },
  {
   "cell_type": "code",
   "execution_count": 2,
   "metadata": {},
   "outputs": [],
   "source": [
    "import io"
=======
   "execution_count": 4,
   "metadata": {},
   "outputs": [],
   "source": [
    "import sys\n",
    "sys.path.insert(0, \"/datasets/home/23/223/rmanandi/text-to-image-using-GAN/\")\n",
    "import nbimporter"
>>>>>>> 8254d769bf2fcb438aa727196e4ca972afde795d
   ]
  },
  {
   "cell_type": "code",
<<<<<<< HEAD
   "execution_count": 3,
=======
   "execution_count": 5,
>>>>>>> 8254d769bf2fcb438aa727196e4ca972afde795d
   "metadata": {},
   "outputs": [
    {
     "name": "stdout",
     "output_type": "stream",
     "text": [
      "Importing Jupyter notebook from trainer.ipynb\n",
<<<<<<< HEAD
      "Importing Jupyter notebook from txt2image_dataset.ipynb\n"
=======
      "Importing Jupyter notebook from txt2image_dataset.ipynb\n",
      "Importing Jupyter notebook from /datasets/home/23/223/rmanandi/text-to-image-using-GAN/models/gan_factory.ipynb\n"
>>>>>>> 8254d769bf2fcb438aa727196e4ca972afde795d
     ]
    },
    {
     "name": "stderr",
     "output_type": "stream",
     "text": [
      "/opt/conda/lib/python2.7/site-packages/h5py/__init__.py:36: FutureWarning: Conversion of the second argument of issubdtype from `float` to `np.floating` is deprecated. In future, it will be treated as `np.float64 == np.dtype(float).type`.\n",
      "  from ._conv import register_converters as _register_converters\n"
     ]
    },
    {
     "name": "stdout",
     "output_type": "stream",
     "text": [
<<<<<<< HEAD
      "Importing Jupyter notebook from models/gan_factory.ipynb\n",
      "Importing Jupyter notebook from models/gan.ipynb\n",
      "Importing Jupyter notebook from models/gan_cls.ipynb\n",
=======
      "Importing Jupyter notebook from /datasets/home/23/223/rmanandi/text-to-image-using-GAN/models/gan.ipynb\n",
>>>>>>> 8254d769bf2fcb438aa727196e4ca972afde795d
      "Importing Jupyter notebook from utils.ipynb\n",
      "Importing Jupyter notebook from visualize.ipynb\n"
     ]
    }
   ],
   "source": [
<<<<<<< HEAD
    "from trainer import Trainer     #trainer.ipynb file"
   ]
  },
  {
   "cell_type": "code",
   "execution_count": 4,
   "metadata": {},
   "outputs": [
    {
     "name": "stderr",
     "output_type": "stream",
     "text": [
      "No handlers could be found for logger \"visdom\"\n"
     ]
    },
    {
     "ename": "IOError",
     "evalue": "Traceback (most recent call last):\n  File \"/opt/conda/lib/python2.7/site-packages/torch/utils/data/dataloader.py\", line 55, in _worker_loop\n    samples = collate_fn([dataset[i] for i in batch_indices])\n  File \"txt2image_dataset.ipynb\", line 42, in __getitem__\n    \"        self.transform = transform\\n\",\n  File \"/opt/conda/lib/python2.7/site-packages/PIL/Image.py\", line 2585, in open\n    % (filename if filename else fp))\nIOError: cannot identify image file <_io.BytesIO object at 0x7f3e47b9a7d0>\n",
     "output_type": "error",
     "traceback": [
      "\u001b[0;31m\u001b[0m",
      "\u001b[0;31mIOError\u001b[0mTraceback (most recent call last)",
      "\u001b[0;32m<ipython-input-4-63ed5fd7a1de>\u001b[0m in \u001b[0;36m<module>\u001b[0;34m()\u001b[0m\n\u001b[1;32m     39\u001b[0m \u001b[0;34m\u001b[0m\u001b[0m\n\u001b[1;32m     40\u001b[0m \u001b[0;32mif\u001b[0m \u001b[0;32mnot\u001b[0m \u001b[0margs\u001b[0m\u001b[0;34m.\u001b[0m\u001b[0minference\u001b[0m\u001b[0;34m:\u001b[0m\u001b[0;34m\u001b[0m\u001b[0m\n\u001b[0;32m---> 41\u001b[0;31m     \u001b[0mtrainer\u001b[0m\u001b[0;34m.\u001b[0m\u001b[0mtrain\u001b[0m\u001b[0;34m(\u001b[0m\u001b[0margs\u001b[0m\u001b[0;34m.\u001b[0m\u001b[0mcls\u001b[0m\u001b[0;34m)\u001b[0m\u001b[0;34m\u001b[0m\u001b[0m\n\u001b[0m\u001b[1;32m     42\u001b[0m \u001b[0;32melse\u001b[0m\u001b[0;34m:\u001b[0m\u001b[0;34m\u001b[0m\u001b[0m\n\u001b[1;32m     43\u001b[0m     \u001b[0mtrainer\u001b[0m\u001b[0;34m.\u001b[0m\u001b[0mpredict\u001b[0m\u001b[0;34m(\u001b[0m\u001b[0;34m)\u001b[0m\u001b[0;34m\u001b[0m\u001b[0m\n",
      "\u001b[0;32m/datasets/home/30/930/dmajumde/text-to-image-using-GAN/trainer.ipynb\u001b[0m in \u001b[0;36mtrain\u001b[0;34m(self, cls)\u001b[0m\n\u001b[1;32m     53\u001b[0m     \u001b[0;34m\"\\n\"\u001b[0m\u001b[0;34m,\u001b[0m\u001b[0;34m\u001b[0m\u001b[0m\n\u001b[1;32m     54\u001b[0m     \u001b[0;34m\"        if pre_trained_gen:\\n\"\u001b[0m\u001b[0;34m,\u001b[0m\u001b[0;34m\u001b[0m\u001b[0m\n\u001b[0;32m---> 55\u001b[0;31m     \u001b[0;34m\"            self.generator.load_state_dict(torch.load(pre_trained_gen))\\n\"\u001b[0m\u001b[0;34m,\u001b[0m\u001b[0;34m\u001b[0m\u001b[0m\n\u001b[0m\u001b[1;32m     56\u001b[0m     \u001b[0;34m\"        else:\\n\"\u001b[0m\u001b[0;34m,\u001b[0m\u001b[0;34m\u001b[0m\u001b[0m\n\u001b[1;32m     57\u001b[0m     \u001b[0;34m\"            self.generator.apply(Utils.weights_init)\\n\"\u001b[0m\u001b[0;34m,\u001b[0m\u001b[0;34m\u001b[0m\u001b[0m\n",
      "\u001b[0;32m/datasets/home/30/930/dmajumde/text-to-image-using-GAN/trainer.ipynb\u001b[0m in \u001b[0;36m_train_gan\u001b[0;34m(self, cls)\u001b[0m\n\u001b[1;32m     67\u001b[0m     \u001b[0;34m\"        self.noise_dim = 100\\n\"\u001b[0m\u001b[0;34m,\u001b[0m\u001b[0;34m\u001b[0m\u001b[0m\n\u001b[1;32m     68\u001b[0m     \u001b[0;34m\"        self.batch_size = batch_size\\n\"\u001b[0m\u001b[0;34m,\u001b[0m\u001b[0;34m\u001b[0m\u001b[0m\n\u001b[0;32m---> 69\u001b[0;31m     \u001b[0;34m\"        self.num_workers = num_workers\\n\"\u001b[0m\u001b[0;34m,\u001b[0m\u001b[0;34m\u001b[0m\u001b[0m\n\u001b[0m\u001b[1;32m     70\u001b[0m     \u001b[0;34m\"        self.lr = lr\\n\"\u001b[0m\u001b[0;34m,\u001b[0m\u001b[0;34m\u001b[0m\u001b[0m\n\u001b[1;32m     71\u001b[0m     \u001b[0;34m\"        self.beta1 = 0.5\\n\"\u001b[0m\u001b[0;34m,\u001b[0m\u001b[0;34m\u001b[0m\u001b[0m\n",
      "\u001b[0;32m/opt/conda/lib/python2.7/site-packages/torch/utils/data/dataloader.pyc\u001b[0m in \u001b[0;36m__next__\u001b[0;34m(self)\u001b[0m\n\u001b[1;32m    279\u001b[0m                 \u001b[0mself\u001b[0m\u001b[0;34m.\u001b[0m\u001b[0mreorder_dict\u001b[0m\u001b[0;34m[\u001b[0m\u001b[0midx\u001b[0m\u001b[0;34m]\u001b[0m \u001b[0;34m=\u001b[0m \u001b[0mbatch\u001b[0m\u001b[0;34m\u001b[0m\u001b[0m\n\u001b[1;32m    280\u001b[0m                 \u001b[0;32mcontinue\u001b[0m\u001b[0;34m\u001b[0m\u001b[0m\n\u001b[0;32m--> 281\u001b[0;31m             \u001b[0;32mreturn\u001b[0m \u001b[0mself\u001b[0m\u001b[0;34m.\u001b[0m\u001b[0m_process_next_batch\u001b[0m\u001b[0;34m(\u001b[0m\u001b[0mbatch\u001b[0m\u001b[0;34m)\u001b[0m\u001b[0;34m\u001b[0m\u001b[0m\n\u001b[0m\u001b[1;32m    282\u001b[0m \u001b[0;34m\u001b[0m\u001b[0m\n\u001b[1;32m    283\u001b[0m     \u001b[0mnext\u001b[0m \u001b[0;34m=\u001b[0m \u001b[0m__next__\u001b[0m  \u001b[0;31m# Python 2 compatibility\u001b[0m\u001b[0;34m\u001b[0m\u001b[0m\n",
      "\u001b[0;32m/opt/conda/lib/python2.7/site-packages/torch/utils/data/dataloader.pyc\u001b[0m in \u001b[0;36m_process_next_batch\u001b[0;34m(self, batch)\u001b[0m\n\u001b[1;32m    299\u001b[0m         \u001b[0mself\u001b[0m\u001b[0;34m.\u001b[0m\u001b[0m_put_indices\u001b[0m\u001b[0;34m(\u001b[0m\u001b[0;34m)\u001b[0m\u001b[0;34m\u001b[0m\u001b[0m\n\u001b[1;32m    300\u001b[0m         \u001b[0;32mif\u001b[0m \u001b[0misinstance\u001b[0m\u001b[0;34m(\u001b[0m\u001b[0mbatch\u001b[0m\u001b[0;34m,\u001b[0m \u001b[0mExceptionWrapper\u001b[0m\u001b[0;34m)\u001b[0m\u001b[0;34m:\u001b[0m\u001b[0;34m\u001b[0m\u001b[0m\n\u001b[0;32m--> 301\u001b[0;31m             \u001b[0;32mraise\u001b[0m \u001b[0mbatch\u001b[0m\u001b[0;34m.\u001b[0m\u001b[0mexc_type\u001b[0m\u001b[0;34m(\u001b[0m\u001b[0mbatch\u001b[0m\u001b[0;34m.\u001b[0m\u001b[0mexc_msg\u001b[0m\u001b[0;34m)\u001b[0m\u001b[0;34m\u001b[0m\u001b[0m\n\u001b[0m\u001b[1;32m    302\u001b[0m         \u001b[0;32mreturn\u001b[0m \u001b[0mbatch\u001b[0m\u001b[0;34m\u001b[0m\u001b[0m\n\u001b[1;32m    303\u001b[0m \u001b[0;34m\u001b[0m\u001b[0m\n",
      "\u001b[0;31mIOError\u001b[0m: Traceback (most recent call last):\n  File \"/opt/conda/lib/python2.7/site-packages/torch/utils/data/dataloader.py\", line 55, in _worker_loop\n    samples = collate_fn([dataset[i] for i in batch_indices])\n  File \"txt2image_dataset.ipynb\", line 42, in __getitem__\n    \"        self.transform = transform\\n\",\n  File \"/opt/conda/lib/python2.7/site-packages/PIL/Image.py\", line 2585, in open\n    % (filename if filename else fp))\nIOError: cannot identify image file <_io.BytesIO object at 0x7f3e47b9a7d0>\n"
     ]
    }
   ],
   "source": [
    "import argparse\n",
    "from PIL import Image   #This may not be used\n",
    "import os    ##This may not be used\n",
    "import easydict\n",
    "\n",
    "args = easydict.EasyDict({'type': 'gan', \n",
    "                         'lr': 0.0002,\n",
    "                         'l1_coef': 50,\n",
    "                         'l2_coef': 100,\n",
    "                         'diter': 5,\n",
    "                         'cls': False,\n",
    "                         'vis_screen': 'gan',\n",
    "                         'save_path':'',\n",
    "\n",
    "'inference': False,\n",
    "'pre_trained_disc': None,\n",
    "'pre_trained_gen': None,\n",
    "'dataset': 'flowers', \n",
    "'split': 0,\n",
    "'batch_size':64,\n",
    "'num_workers':8,\n",
    "'epochs':200})\n",
=======
    "# from trainer import Trainer     #trainer.ipynb file\n",
    "import trainer\n",
    "import argparse\n",
    "from PIL import Image   #This may not be used\n",
    "import os    ##This may not be used"
   ]
  },
  {
   "cell_type": "code",
   "execution_count": 6,
   "metadata": {},
   "outputs": [
    {
     "name": "stderr",
     "output_type": "stream",
     "text": [
      "usage: ipykernel_launcher.py [-h] [--type TYPE] [--lr LR] [--l1_coef L1_COEF]\n",
      "                             [--l2_coef L2_COEF] [--diter DITER] [--cls]\n",
      "                             [--vis_screen VIS_SCREEN] [--save_path SAVE_PATH]\n",
      "                             [--inference]\n",
      "                             [--pre_trained_disc PRE_TRAINED_DISC]\n",
      "                             [--pre_trained_gen PRE_TRAINED_GEN]\n",
      "                             [--dataset DATASET] [--split SPLIT]\n",
      "                             [--batch_size BATCH_SIZE]\n",
      "                             [--num_workers NUM_WORKERS] [--epochs EPOCHS]\n",
      "ipykernel_launcher.py: error: unrecognized arguments: -f /datasets/home/23/223/rmanandi/.local/share/jupyter/runtime/kernel-c3327d2a-03b1-4d46-9b5c-0ecac2438cd4.json\n"
     ]
    },
    {
     "ename": "SystemExit",
     "evalue": "2",
     "output_type": "error",
     "traceback": [
      "An exception has occurred, use %tb to see the full traceback.\n",
      "\u001b[0;31mSystemExit\u001b[0m\u001b[0;31m:\u001b[0m 2\n"
     ]
    },
    {
     "name": "stderr",
     "output_type": "stream",
     "text": [
      "/opt/conda/lib/python2.7/site-packages/IPython/core/interactiveshell.py:2886: UserWarning: To exit: use 'exit', 'quit', or Ctrl-D.\n",
      "  warn(\"To exit: use 'exit', 'quit', or Ctrl-D.\", stacklevel=1)\n"
     ]
    }
   ],
   "source": [
    "parser = argparse.ArgumentParser()\n",
    "parser.add_argument(\"--type\", default='gan')\n",
    "parser.add_argument(\"--lr\", default=0.0002, type=float)\n",
    "parser.add_argument(\"--l1_coef\", default=50, type=float)\n",
    "parser.add_argument(\"--l2_coef\", default=100, type=float)\n",
    "parser.add_argument(\"--diter\", default=5, type=int) #This may not be used\n",
    "parser.add_argument(\"--cls\", default=False, action='store_true')\n",
    "parser.add_argument(\"--vis_screen\", default='gan')\n",
    "parser.add_argument(\"--save_path\", default='')\n",
    "parser.add_argument(\"--inference\", default=False, action='store_true')\n",
    "parser.add_argument('--pre_trained_disc', default=None)\n",
    "parser.add_argument('--pre_trained_gen', default=None)\n",
    "parser.add_argument('--dataset', default='flowers')\n",
    "parser.add_argument('--split', default=0, type=int)\n",
    "parser.add_argument('--batch_size', default=64, type=int)\n",
    "parser.add_argument('--num_workers', default=8, type=int)\n",
    "parser.add_argument('--epochs', default=200, type=int)\n",
    "args = parser.parse_args()\n",
>>>>>>> 8254d769bf2fcb438aa727196e4ca972afde795d
    "\n",
    "trainer = trainer.Trainer(type=args.type,\n",
    "                  dataset=args.dataset,\n",
    "                  split=args.split,\n",
    "                  lr=args.lr,\n",
    "                  diter=args.diter,   #This may not be used \n",
    "                  vis_screen=args.vis_screen,\n",
    "                  save_path=args.save_path,\n",
    "                  l1_coef=args.l1_coef,\n",
    "                  l2_coef=args.l2_coef,\n",
    "                  pre_trained_disc=args.pre_trained_disc,\n",
    "                  pre_trained_gen=args.pre_trained_gen,\n",
    "                  batch_size=args.batch_size,\n",
    "                  num_workers=args.num_workers,\n",
    "                  epochs=args.epochs\n",
    "                  )\n",
    "\n",
    "if not args.inference:\n",
    "    trainer.train(args.cls)\n",
    "else:\n",
    "    trainer.predict()"
   ]
  },
  {
   "cell_type": "code",
   "execution_count": null,
   "metadata": {},
   "outputs": [],
   "source": []
  }
 ],
 "metadata": {
  "kernelspec": {
   "display_name": "Python 2",
   "language": "python",
   "name": "python2"
  },
  "language_info": {
   "codemirror_mode": {
    "name": "ipython",
    "version": 2
   },
   "file_extension": ".py",
   "mimetype": "text/x-python",
   "name": "python",
   "nbconvert_exporter": "python",
   "pygments_lexer": "ipython2",
   "version": "2.7.14"
  }
 },
 "nbformat": 4,
 "nbformat_minor": 2
}
