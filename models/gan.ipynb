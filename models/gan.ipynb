{
 "cells": [
  {
   "cell_type": "code",
   "execution_count": 5,
   "metadata": {},
   "outputs": [],
   "source": [
    "import torch\n",
    "import torch.nn as nn\n",
    "from torch.autograd import Variable\n",
    "import numpy as np"
   ]
  },
  {
   "cell_type": "code",
   "execution_count": 6,
   "metadata": {},
   "outputs": [],
   "source": [
    "class generator(nn.Module):\n",
    "    def __init__(self):\n",
    "        super(generator, self).__init__()\n",
    "        self.image_size = 64\n",
    "        self.num_channels = 3\n",
    "        self.noise_dim = 100\n",
    "        self.ngf = 64\n",
    "        self.netG = nn.Sequential(\n",
    "                    nn.ConvTranspose2d(self.noise_dim, self.ngf * 8, 4, 1, 0, bias=False),\n",
    "                    nn.BatchNorm2d(self.ngf * 8),\n",
    "                    nn.ReLU(True),\n",
    "                    # state size. (ngf*8) x 4 x 4\n",
    "                    nn.ConvTranspose2d(self.ngf * 8, self.ngf * 4, 4, 2, 1, bias=False),\n",
    "                    nn.BatchNorm2d(self.ngf * 4),\n",
    "                    nn.ReLU(True),\n",
    "                    # state size. (ngf*4) x 8 x 8\n",
    "                    nn.ConvTranspose2d(self.ngf * 4, self.ngf * 2, 4, 2, 1, bias=False),\n",
    "                    nn.BatchNorm2d(self.ngf * 2),\n",
    "                    nn.ReLU(True),\n",
    "                    # state size. (ngf*2) x 16 x 16\n",
    "                    nn.ConvTranspose2d(self.ngf * 2,self.ngf, 4, 2, 1, bias=False),\n",
    "                    nn.BatchNorm2d(self.ngf),\n",
    "                    nn.ReLU(True),\n",
    "                    # state size. (ngf) x 32 x 32\n",
    "                    nn.ConvTranspose2d(self.ngf, self.num_channels, 4, 2, 1, bias=False),\n",
    "                    nn.Tanh()\n",
    "                    # state size. (num_channels) x 64 x 64\n",
    "                    )\n",
    "        def forward(self, z):\n",
    "            return self.netG(z)"
   ]
  },
  {
   "cell_type": "code",
   "execution_count": null,
   "metadata": {},
   "outputs": [],
   "source": [
    "class discriminator(nn.Module):\n",
    "    def __init__(self):\n",
    "        super(discriminator, self).__init__()\n",
    "        self.image_size = 64\n",
    "        self.num_channels = 3\n",
    "        self.ndf = 64\n",
    "\n",
    "        self.B_dim = 128\n",
    "        self.C_dim = 16\n",
    "\n",
    "        self.netD_1 = nn.Sequential(\n",
    "            # input is (nc) x 64 x 64\n",
    "            nn.Conv2d(self.num_channels, self.ndf, 4, 2, 1, bias=False),\n",
    "            nn.LeakyReLU(0.2, inplace=True),\n",
    "            # state size. (ndf) x 32 x 32\n",
    "            nn.Conv2d(self.ndf, self.ndf * 2, 4, 2, 1, bias=False),\n",
    "            nn.BatchNorm2d(self.ndf * 2),\n",
    "            nn.LeakyReLU(0.2, inplace=True),\n",
    "            # state size. (ndf*2) x 16 x 16\n",
    "            nn.Conv2d(self.ndf * 2, self.ndf * 4, 4, 2, 1, bias=False),\n",
    "            nn.BatchNorm2d(self.ndf * 4),\n",
    "            nn.LeakyReLU(0.2, inplace=True),\n",
    "            # state size. (ndf*4) x 8 x 8\n",
    "            nn.Conv2d(self.ndf * 4, self.ndf * 8, 4, 2, 1, bias=False),\n",
    "            nn.BatchNorm2d(self.ndf * 8),\n",
    "            nn.LeakyReLU(0.2, inplace=True)\n",
    "        )\n",
    "\n",
    "        self.netD_2 = nn.Sequential(\n",
    "            # state size. (ndf*8) x 4 x 4\n",
    "            nn.Conv2d(self.ndf * 8, 1, 4, 1, 0, bias=False),\n",
    "            nn.Sigmoid()\n",
    "            )\n",
    "\n",
    "    def forward(self, inp):\n",
    "        x_intermediate = self.netD_1(inp)\n",
    "        output =  self.netD_2(x_intermediate)\n",
    "        return output.view(-1, 1).squeeze(1), x_intermediate"
   ]
  }
 ],
 "metadata": {
  "kernelspec": {
   "display_name": "Python 2",
   "language": "python",
   "name": "python2"
  },
  "language_info": {
   "codemirror_mode": {
    "name": "ipython",
    "version": 2
   },
   "file_extension": ".py",
   "mimetype": "text/x-python",
   "name": "python",
   "nbconvert_exporter": "python",
   "pygments_lexer": "ipython2",
   "version": "2.7.14"
  }
 },
 "nbformat": 4,
 "nbformat_minor": 2
}
