{
 "cells": [
  {
   "cell_type": "code",
   "execution_count": null,
   "metadata": {},
   "outputs": [],
   "source": [
    "from trainer import Trainer     #trainer.ipynb file\n",
    "import argparse\n",
    "from PIL import Image   #This may not be used\n",
    "import os    ##This may not be used\n",
    "\n",
    "parser = argparse.ArgumentParser()\n",
    "parser.add_argument(\"--type\", default='gan')\n",
    "parser.add_argument(\"--lr\", default=0.0002, type=float)\n",
    "parser.add_argument(\"--l1_coef\", default=50, type=float)\n",
    "parser.add_argument(\"--l2_coef\", default=100, type=float)\n",
    "parser.add_argument(\"--diter\", default=5, type=int) #This may not be used\n",
    "parser.add_argument(\"--cls\", default=False, action='store_true')\n",
    "parser.add_argument(\"--vis_screen\", default='gan')\n",
    "parser.add_argument(\"--save_path\", default='')\n",
    "parser.add_argument(\"--inference\", default=False, action='store_true')\n",
    "parser.add_argument('--pre_trained_disc', default=None)\n",
    "parser.add_argument('--pre_trained_gen', default=None)\n",
    "parser.add_argument('--dataset', default='flowers')\n",
    "parser.add_argument('--split', default=0, type=int)\n",
    "parser.add_argument('--batch_size', default=64, type=int)\n",
    "parser.add_argument('--num_workers', default=8, type=int)\n",
    "parser.add_argument('--epochs', default=200, type=int)\n",
    "args = parser.parse_args()\n",
    "\n",
    "trainer = Trainer(type=args.type,\n",
    "                  dataset=args.dataset,\n",
    "                  split=args.split,\n",
    "                  lr=args.lr,\n",
    "                  diter=args.diter,   #This may not be used \n",
    "                  vis_screen=args.vis_screen,\n",
    "                  save_path=args.save_path,\n",
    "                  l1_coef=args.l1_coef,\n",
    "                  l2_coef=args.l2_coef,\n",
    "                  pre_trained_disc=args.pre_trained_disc,\n",
    "                  pre_trained_gen=args.pre_trained_gen,\n",
    "                  batch_size=args.batch_size,\n",
    "                  num_workers=args.num_workers,\n",
    "                  epochs=args.epochs\n",
    "                  )\n",
    "\n",
    "if not args.inference:\n",
    "    trainer.train(args.cls)\n",
    "else:\n",
    "    trainer.predict()"
   ]
  }
 ],
 "metadata": {
  "kernelspec": {
   "display_name": "Python 2",
   "language": "python",
   "name": "python2"
  },
  "language_info": {
   "codemirror_mode": {
    "name": "ipython",
    "version": 2
   },
   "file_extension": ".py",
   "mimetype": "text/x-python",
   "name": "python",
   "nbconvert_exporter": "python",
   "pygments_lexer": "ipython2",
   "version": "2.7.14"
  }
 },
 "nbformat": 4,
 "nbformat_minor": 2
}
