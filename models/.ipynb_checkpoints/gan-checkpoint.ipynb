{
 "cells": [
  {
   "cell_type": "code",
   "execution_count": 5,
   "metadata": {},
   "outputs": [],
   "source": [
    "import torch\n",
    "import torch.nn as nn\n",
    "from torch.autograd import Variable\n",
    "import numpy as np"
   ]
  },
  {
   "cell_type": "code",
   "execution_count": 6,
   "metadata": {},
   "outputs": [],
   "source": [
    "class generator(nn.Module):\n",
    "    def __init__(self):\n",
    "        super(generator, self).__init__()\n",
    "        self.image_size = 64\n",
    "        self.num_channels = 3\n",
    "        self.noise_dim = 100\n",
    "        self.ngf = 64\n",
    "        self.netG = nn.Sequential(\n",
    "                    nn.ConvTranspose2d(self.noise_dim, self.ngf * 8, 4, 1, 0, bias=False),\n",
    "                    nn.BatchNorm2d(self.ngf * 8),\n",
    "                    nn.ReLU(True),\n",
    "                    # state size. (ngf*8) x 4 x 4\n",
    "                    nn.ConvTranspose2d(self.ngf * 8, self.ngf * 4, 4, 2, 1, bias=False),\n",
    "                    nn.BatchNorm2d(self.ngf * 4),\n",
    "                    nn.ReLU(True),\n",
    "                    # state size. (ngf*4) x 8 x 8\n",
    "                    nn.ConvTranspose2d(self.ngf * 4, self.ngf * 2, 4, 2, 1, bias=False),\n",
    "                    nn.BatchNorm2d(self.ngf * 2),\n",
    "                    nn.ReLU(True),\n",
    "                    # state size. (ngf*2) x 16 x 16\n",
    "                    nn.ConvTranspose2d(self.ngf * 2,self.ngf, 4, 2, 1, bias=False),\n",
    "                    nn.BatchNorm2d(self.ngf),\n",
    "                    nn.ReLU(True),\n",
    "                    # state size. (ngf) x 32 x 32\n",
    "                    nn.ConvTranspose2d(self.ngf, self.num_channels, 4, 2, 1, bias=False),\n",
    "                    nn.Tanh()\n",
    "                    # state size. (num_channels) x 64 x 64\n",
    "                    )\n",
    "        def forward(self, z):\n",
    "            return self.netG(z)"
   ]
  },
  {
   "cell_type": "code",
   "execution_count": null,
   "metadata": {},
   "outputs": [],
   "source": []
  }
 ],
 "metadata": {
  "kernelspec": {
   "display_name": "Python 2",
   "language": "python",
   "name": "python2"
  },
  "language_info": {
   "codemirror_mode": {
    "name": "ipython",
    "version": 2
   },
   "file_extension": ".py",
   "mimetype": "text/x-python",
   "name": "python",
   "nbconvert_exporter": "python",
   "pygments_lexer": "ipython2",
   "version": "2.7.14"
  }
 },
 "nbformat": 4,
 "nbformat_minor": 2
}
