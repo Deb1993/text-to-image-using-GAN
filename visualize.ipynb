{
 "cells": [
  {
   "cell_type": "code",

   "execution_count": 1,
=======
   "execution_count": 3,

   "metadata": {},
   "outputs": [],
   "source": [
    "from visdom import Visdom\n",
    "import numpy as np\n",
    "import torchvision\n",
    "from PIL import ImageDraw, Image, ImageFont\n",
    "import torch\n",
    "import pdb"
   ]
  },
  {
   "cell_type": "code",

   "execution_count": 3,
   "metadata": {},
   "outputs": [
    {
     "name": "stderr",
     "output_type": "stream",
     "text": [
      "No handlers could be found for logger \"visdom\"\n"
     ]
    },
    {
     "data": {
      "text/plain": [
       "<visdom.Visdom at 0x7feb9208e810>"
      ]
     },
     "execution_count": 3,
     "metadata": {},
     "output_type": "execute_result"
    }
   ],
   "source": [
    "Visdom(use_incoming_socket=False)"
   ]
  },
  {
   "cell_type": "code",
   "execution_count": null,
=======
   "execution_count": 4,

   "metadata": {},
   "outputs": [],
   "source": [
    "class VisdomPlotter(object):\n",
    "\n",
    "    \"\"\"Plots to Visdom\"\"\"\n",
    "\n",
    "    def __init__(self, env_name='gan'):\n",
    "        self.viz = Visdom()\n",
    "        self.env = env_name\n",
    "        self.plots = {}\n",
    "\n",
    "    def plot(self, var_name, split_name, x, y, xlabel='epoch'):\n",
    "        if var_name not in self.plots:\n",
    "            self.plots[var_name] = self.viz.line(X=np.array([x,x]), Y=np.array([y,y]), env=self.env, opts=dict(\n",
    "                legend=[split_name],\n",
    "                title=var_name,\n",
    "                xlabel=xlabel,\n",
    "                ylabel=var_name\n",
    "            ))\n",
    "        else:\n",
    "            self.viz.updateTrace(X=np.array([x]), Y=np.array([y]), env=self.env, win=self.plots[var_name], name=split_name)\n",
    "\n",
    "    def draw(self, var_name, images):\n",
    "        if var_name not in self.plots:\n",
    "            self.plots[var_name] = self.viz.images(images, env=self.env)\n",
    "        else:\n",
    "            self.viz.images(images, env=self.env, win=self.plots[var_name])"
   ]
  },
  {
   "cell_type": "code",
   "execution_count": null,
   "metadata": {},
   "outputs": [],
   "source": []
  }
 ],
 "metadata": {
  "kernelspec": {
   "display_name": "Python 2",
   "language": "python",
   "name": "python2"
  },
  "language_info": {
   "codemirror_mode": {
    "name": "ipython",
    "version": 2
   },
   "file_extension": ".py",
   "mimetype": "text/x-python",
   "name": "python",
   "nbconvert_exporter": "python",
   "pygments_lexer": "ipython2",
   "version": "2.7.14"
  }
 },
 "nbformat": 4,
 "nbformat_minor": 2
}
